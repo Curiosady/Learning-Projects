{
 "cells": [
  {
   "cell_type": "markdown",
   "metadata": {},
   "source": [
    "## Предобработка данных\n",
    "\n",
    "Расшифровка названий признаков:\n",
    "* car_description - марка, модель и поколение автомобиля\n",
    "* year - год выпуска\n",
    "* engine - объем двигателя в литрах\n",
    "* power - мощность двигателя в лошадиных силах\n",
    "* gas - типа используемого топлива\n",
    "* transmission - тип коробки передач\n",
    "* body - форма кузова\n",
    "* drive - привод\n",
    "* color - цвет кузова\n",
    "* mileage - пробег\n",
    "* price - цена"
   ]
  },
  {
   "cell_type": "markdown",
   "metadata": {},
   "source": [
    "После того как отработал скрипт для парсинга web_scraper.py мы получили сырые данные в виде csv-файла auto_ru_df, но эти данные еще не готовы для визуализации и применения к ним алгоритмов машинного обучения. Чтобы с полученной информацией можно было работать - нам необходимо удалить лишние символы в колонках пробег и цена и преобразовать их к числовому типу. Так же нужно удалить дубликаты записей, проверить значения признаков в столбцах на адекватность и вытянуть максимум информации из колонки \"car_decription\",  где содержится краткое описание производителя, модели, поколения и тд. Приступим."
   ]
  },
  {
   "cell_type": "code",
   "execution_count": 1,
   "metadata": {},
   "outputs": [],
   "source": [
    "import pandas as pd\n",
    "import numpy as np"
   ]
  },
  {
   "cell_type": "code",
   "execution_count": 2,
   "metadata": {},
   "outputs": [],
   "source": [
    "pd.set_option('precision', 2)"
   ]
  },
  {
   "cell_type": "code",
   "execution_count": 3,
   "metadata": {},
   "outputs": [],
   "source": [
    "df = pd.read_csv('../data/auto_ru_df.csv', index_col=False,\n",
    "                 names = ['car_description','year', 'engine', 'power', 'gas', 'transmission', \\\n",
    "                          'body', 'drive', 'color','mileage', 'price'])"
   ]
  },
  {
   "cell_type": "code",
   "execution_count": 4,
   "metadata": {},
   "outputs": [
    {
     "data": {
      "text/html": [
       "<div>\n",
       "<style scoped>\n",
       "    .dataframe tbody tr th:only-of-type {\n",
       "        vertical-align: middle;\n",
       "    }\n",
       "\n",
       "    .dataframe tbody tr th {\n",
       "        vertical-align: top;\n",
       "    }\n",
       "\n",
       "    .dataframe thead th {\n",
       "        text-align: right;\n",
       "    }\n",
       "</style>\n",
       "<table border=\"1\" class=\"dataframe\">\n",
       "  <thead>\n",
       "    <tr style=\"text-align: right;\">\n",
       "      <th></th>\n",
       "      <th>car_description</th>\n",
       "      <th>year</th>\n",
       "      <th>engine</th>\n",
       "      <th>power</th>\n",
       "      <th>gas</th>\n",
       "      <th>transmission</th>\n",
       "      <th>body</th>\n",
       "      <th>drive</th>\n",
       "      <th>color</th>\n",
       "      <th>mileage</th>\n",
       "      <th>price</th>\n",
       "    </tr>\n",
       "  </thead>\n",
       "  <tbody>\n",
       "    <tr>\n",
       "      <td>0</td>\n",
       "      <td>LADA () 2106</td>\n",
       "      <td>1990</td>\n",
       "      <td>1.3</td>\n",
       "      <td>64</td>\n",
       "      <td>Бензин</td>\n",
       "      <td>механика</td>\n",
       "      <td>седан</td>\n",
       "      <td>задний</td>\n",
       "      <td>бежевый</td>\n",
       "      <td>100 000 км</td>\n",
       "      <td>21 000 ₽</td>\n",
       "    </tr>\n",
       "    <tr>\n",
       "      <td>1</td>\n",
       "      <td>LADA () 2104  5-speed</td>\n",
       "      <td>1990</td>\n",
       "      <td>1.5</td>\n",
       "      <td>72</td>\n",
       "      <td>Бензин</td>\n",
       "      <td>механика</td>\n",
       "      <td>универсал 5 дв.</td>\n",
       "      <td>задний</td>\n",
       "      <td>красный</td>\n",
       "      <td>91 000 км</td>\n",
       "      <td>99 000 ₽</td>\n",
       "    </tr>\n",
       "    <tr>\n",
       "      <td>2</td>\n",
       "      <td>LADA () 2106</td>\n",
       "      <td>1990</td>\n",
       "      <td>1.3</td>\n",
       "      <td>64</td>\n",
       "      <td>Бензин</td>\n",
       "      <td>механика</td>\n",
       "      <td>седан</td>\n",
       "      <td>задний</td>\n",
       "      <td>бежевый</td>\n",
       "      <td>32 000 км</td>\n",
       "      <td>80 000 ₽</td>\n",
       "    </tr>\n",
       "    <tr>\n",
       "      <td>3</td>\n",
       "      <td>LADA () 2107</td>\n",
       "      <td>1990</td>\n",
       "      <td>1.3</td>\n",
       "      <td>64</td>\n",
       "      <td>Бензин</td>\n",
       "      <td>механика</td>\n",
       "      <td>седан</td>\n",
       "      <td>задний</td>\n",
       "      <td>красный</td>\n",
       "      <td>250 000 км</td>\n",
       "      <td>45 000 ₽</td>\n",
       "    </tr>\n",
       "    <tr>\n",
       "      <td>4</td>\n",
       "      <td>LADA () 2106</td>\n",
       "      <td>1990</td>\n",
       "      <td>1.3</td>\n",
       "      <td>64</td>\n",
       "      <td>Бензин</td>\n",
       "      <td>механика</td>\n",
       "      <td>седан</td>\n",
       "      <td>задний</td>\n",
       "      <td>голубой</td>\n",
       "      <td>68 000 км</td>\n",
       "      <td>28 000 ₽</td>\n",
       "    </tr>\n",
       "  </tbody>\n",
       "</table>\n",
       "</div>"
      ],
      "text/plain": [
       "         car_description  year  engine  power      gas transmission  \\\n",
       "0           LADA () 2106  1990     1.3     64   Бензин     механика   \n",
       "1  LADA () 2104  5-speed  1990     1.5     72   Бензин     механика   \n",
       "2           LADA () 2106  1990     1.3     64   Бензин     механика   \n",
       "3           LADA () 2107  1990     1.3     64   Бензин     механика   \n",
       "4           LADA () 2106  1990     1.3     64   Бензин     механика   \n",
       "\n",
       "              body   drive    color     mileage     price  \n",
       "0            седан  задний  бежевый  100 000 км  21 000 ₽  \n",
       "1  универсал 5 дв.  задний  красный   91 000 км  99 000 ₽  \n",
       "2            седан  задний  бежевый   32 000 км  80 000 ₽  \n",
       "3            седан  задний  красный  250 000 км  45 000 ₽  \n",
       "4            седан  задний  голубой   68 000 км  28 000 ₽  "
      ]
     },
     "execution_count": 4,
     "metadata": {},
     "output_type": "execute_result"
    }
   ],
   "source": [
    "df.head()"
   ]
  },
  {
   "cell_type": "code",
   "execution_count": 5,
   "metadata": {},
   "outputs": [
    {
     "name": "stdout",
     "output_type": "stream",
     "text": [
      "<class 'pandas.core.frame.DataFrame'>\n",
      "RangeIndex: 114106 entries, 0 to 114105\n",
      "Data columns (total 11 columns):\n",
      "car_description    114106 non-null object\n",
      "year               114106 non-null int64\n",
      "engine             114106 non-null float64\n",
      "power              114106 non-null int64\n",
      "gas                114106 non-null object\n",
      "transmission       114106 non-null object\n",
      "body               114105 non-null object\n",
      "drive              114105 non-null object\n",
      "color              114105 non-null object\n",
      "mileage            114105 non-null object\n",
      "price              114105 non-null object\n",
      "dtypes: float64(1), int64(2), object(8)\n",
      "memory usage: 9.6+ MB\n"
     ]
    }
   ],
   "source": [
    "df.info()"
   ]
  },
  {
   "cell_type": "markdown",
   "metadata": {},
   "source": [
    "Удаляем запись с пропущенными значениями"
   ]
  },
  {
   "cell_type": "code",
   "execution_count": 6,
   "metadata": {},
   "outputs": [],
   "source": [
    "df.dropna(how = 'any', inplace = True)"
   ]
  },
  {
   "cell_type": "markdown",
   "metadata": {},
   "source": [
    "Удаляем лишнее из колонок"
   ]
  },
  {
   "cell_type": "code",
   "execution_count": 7,
   "metadata": {},
   "outputs": [
    {
     "name": "stdout",
     "output_type": "stream",
     "text": [
      "<class 'pandas.core.frame.DataFrame'>\n",
      "Int64Index: 114105 entries, 0 to 114104\n",
      "Data columns (total 11 columns):\n",
      "car_description    114105 non-null object\n",
      "year               114105 non-null int64\n",
      "engine             114105 non-null float64\n",
      "power              114105 non-null int64\n",
      "gas                114105 non-null object\n",
      "transmission       114105 non-null object\n",
      "body               114105 non-null object\n",
      "drive              114105 non-null object\n",
      "color              114105 non-null object\n",
      "mileage            114105 non-null object\n",
      "price              114105 non-null object\n",
      "dtypes: float64(1), int64(2), object(8)\n",
      "memory usage: 10.4+ MB\n"
     ]
    }
   ],
   "source": [
    "df['car_description'] = df['car_description'].astype('str').str.replace(r'\\(\\)','')\n",
    "df['gas'] = df['gas'].str.replace('\\s+','')\n",
    "df['price'] = df['price'].str.replace('\\s+','').str.replace('₽', '')\n",
    "df['mileage'] = df['mileage'].str.replace('\\s+', '').str.replace('км', '')\n",
    "df.info()"
   ]
  },
  {
   "cell_type": "markdown",
   "metadata": {},
   "source": [
    "Приводим пробег и цену к числовому типу"
   ]
  },
  {
   "cell_type": "code",
   "execution_count": 8,
   "metadata": {},
   "outputs": [
    {
     "name": "stdout",
     "output_type": "stream",
     "text": [
      "<class 'pandas.core.frame.DataFrame'>\n",
      "Int64Index: 114105 entries, 0 to 114104\n",
      "Data columns (total 11 columns):\n",
      "car_description    114105 non-null object\n",
      "year               114105 non-null int64\n",
      "engine             114105 non-null float64\n",
      "power              114105 non-null int64\n",
      "gas                114105 non-null object\n",
      "transmission       114105 non-null object\n",
      "body               114105 non-null object\n",
      "drive              114105 non-null object\n",
      "color              114105 non-null object\n",
      "mileage            114105 non-null int32\n",
      "price              114105 non-null int32\n",
      "dtypes: float64(1), int32(2), int64(2), object(6)\n",
      "memory usage: 9.6+ MB\n"
     ]
    }
   ],
   "source": [
    "df['mileage'] = df['mileage'].astype('int32')\n",
    "df['price'] = df['price'].astype('int32')\n",
    "df.info()"
   ]
  },
  {
   "cell_type": "code",
   "execution_count": 9,
   "metadata": {},
   "outputs": [
    {
     "data": {
      "text/html": [
       "<div>\n",
       "<style scoped>\n",
       "    .dataframe tbody tr th:only-of-type {\n",
       "        vertical-align: middle;\n",
       "    }\n",
       "\n",
       "    .dataframe tbody tr th {\n",
       "        vertical-align: top;\n",
       "    }\n",
       "\n",
       "    .dataframe thead th {\n",
       "        text-align: right;\n",
       "    }\n",
       "</style>\n",
       "<table border=\"1\" class=\"dataframe\">\n",
       "  <thead>\n",
       "    <tr style=\"text-align: right;\">\n",
       "      <th></th>\n",
       "      <th>year</th>\n",
       "      <th>engine</th>\n",
       "      <th>power</th>\n",
       "      <th>mileage</th>\n",
       "      <th>price</th>\n",
       "    </tr>\n",
       "  </thead>\n",
       "  <tbody>\n",
       "    <tr>\n",
       "      <td>count</td>\n",
       "      <td>114105.00</td>\n",
       "      <td>114105.00</td>\n",
       "      <td>114105.00</td>\n",
       "      <td>114105.00</td>\n",
       "      <td>1.14e+05</td>\n",
       "    </tr>\n",
       "    <tr>\n",
       "      <td>mean</td>\n",
       "      <td>2009.22</td>\n",
       "      <td>2.22</td>\n",
       "      <td>160.17</td>\n",
       "      <td>143259.07</td>\n",
       "      <td>7.52e+05</td>\n",
       "    </tr>\n",
       "    <tr>\n",
       "      <td>std</td>\n",
       "      <td>5.68</td>\n",
       "      <td>2.48</td>\n",
       "      <td>79.57</td>\n",
       "      <td>87023.87</td>\n",
       "      <td>9.38e+05</td>\n",
       "    </tr>\n",
       "    <tr>\n",
       "      <td>min</td>\n",
       "      <td>1990.00</td>\n",
       "      <td>0.70</td>\n",
       "      <td>29.00</td>\n",
       "      <td>1.00</td>\n",
       "      <td>1.50e+04</td>\n",
       "    </tr>\n",
       "    <tr>\n",
       "      <td>25%</td>\n",
       "      <td>2006.00</td>\n",
       "      <td>1.60</td>\n",
       "      <td>106.00</td>\n",
       "      <td>84000.00</td>\n",
       "      <td>2.80e+05</td>\n",
       "    </tr>\n",
       "    <tr>\n",
       "      <td>50%</td>\n",
       "      <td>2010.00</td>\n",
       "      <td>2.00</td>\n",
       "      <td>141.00</td>\n",
       "      <td>130000.00</td>\n",
       "      <td>5.15e+05</td>\n",
       "    </tr>\n",
       "    <tr>\n",
       "      <td>75%</td>\n",
       "      <td>2013.00</td>\n",
       "      <td>2.50</td>\n",
       "      <td>184.00</td>\n",
       "      <td>188000.00</td>\n",
       "      <td>8.90e+05</td>\n",
       "    </tr>\n",
       "    <tr>\n",
       "      <td>max</td>\n",
       "      <td>2018.00</td>\n",
       "      <td>170.00</td>\n",
       "      <td>717.00</td>\n",
       "      <td>1000000.00</td>\n",
       "      <td>8.89e+07</td>\n",
       "    </tr>\n",
       "  </tbody>\n",
       "</table>\n",
       "</div>"
      ],
      "text/plain": [
       "            year     engine      power     mileage     price\n",
       "count  114105.00  114105.00  114105.00   114105.00  1.14e+05\n",
       "mean     2009.22       2.22     160.17   143259.07  7.52e+05\n",
       "std         5.68       2.48      79.57    87023.87  9.38e+05\n",
       "min      1990.00       0.70      29.00        1.00  1.50e+04\n",
       "25%      2006.00       1.60     106.00    84000.00  2.80e+05\n",
       "50%      2010.00       2.00     141.00   130000.00  5.15e+05\n",
       "75%      2013.00       2.50     184.00   188000.00  8.90e+05\n",
       "max      2018.00     170.00     717.00  1000000.00  8.89e+07"
      ]
     },
     "execution_count": 9,
     "metadata": {},
     "output_type": "execute_result"
    }
   ],
   "source": [
    "df.describe()"
   ]
  },
  {
   "cell_type": "markdown",
   "metadata": {},
   "source": [
    "Максимальный объем двигателя в 170 литров выглядит подозрительно, вероятно, люди опечатывались или путали с другими единицами измерения.Подрежем на разумном значении."
   ]
  },
  {
   "cell_type": "code",
   "execution_count": 10,
   "metadata": {},
   "outputs": [
    {
     "data": {
      "text/html": [
       "<div>\n",
       "<style scoped>\n",
       "    .dataframe tbody tr th:only-of-type {\n",
       "        vertical-align: middle;\n",
       "    }\n",
       "\n",
       "    .dataframe tbody tr th {\n",
       "        vertical-align: top;\n",
       "    }\n",
       "\n",
       "    .dataframe thead th {\n",
       "        text-align: right;\n",
       "    }\n",
       "</style>\n",
       "<table border=\"1\" class=\"dataframe\">\n",
       "  <thead>\n",
       "    <tr style=\"text-align: right;\">\n",
       "      <th></th>\n",
       "      <th>year</th>\n",
       "      <th>engine</th>\n",
       "      <th>power</th>\n",
       "      <th>mileage</th>\n",
       "      <th>price</th>\n",
       "    </tr>\n",
       "  </thead>\n",
       "  <tbody>\n",
       "    <tr>\n",
       "      <td>count</td>\n",
       "      <td>114105.00</td>\n",
       "      <td>114105.00</td>\n",
       "      <td>114105.00</td>\n",
       "      <td>114105.00</td>\n",
       "      <td>1.14e+05</td>\n",
       "    </tr>\n",
       "    <tr>\n",
       "      <td>mean</td>\n",
       "      <td>2009.22</td>\n",
       "      <td>2.18</td>\n",
       "      <td>160.17</td>\n",
       "      <td>143259.07</td>\n",
       "      <td>7.52e+05</td>\n",
       "    </tr>\n",
       "    <tr>\n",
       "      <td>std</td>\n",
       "      <td>5.68</td>\n",
       "      <td>0.88</td>\n",
       "      <td>79.57</td>\n",
       "      <td>87023.87</td>\n",
       "      <td>9.38e+05</td>\n",
       "    </tr>\n",
       "    <tr>\n",
       "      <td>min</td>\n",
       "      <td>1990.00</td>\n",
       "      <td>0.67</td>\n",
       "      <td>29.00</td>\n",
       "      <td>1.00</td>\n",
       "      <td>1.50e+04</td>\n",
       "    </tr>\n",
       "    <tr>\n",
       "      <td>25%</td>\n",
       "      <td>2006.00</td>\n",
       "      <td>1.60</td>\n",
       "      <td>106.00</td>\n",
       "      <td>84000.00</td>\n",
       "      <td>2.80e+05</td>\n",
       "    </tr>\n",
       "    <tr>\n",
       "      <td>50%</td>\n",
       "      <td>2010.00</td>\n",
       "      <td>2.00</td>\n",
       "      <td>141.00</td>\n",
       "      <td>130000.00</td>\n",
       "      <td>5.15e+05</td>\n",
       "    </tr>\n",
       "    <tr>\n",
       "      <td>75%</td>\n",
       "      <td>2013.00</td>\n",
       "      <td>2.50</td>\n",
       "      <td>184.00</td>\n",
       "      <td>188000.00</td>\n",
       "      <td>8.90e+05</td>\n",
       "    </tr>\n",
       "    <tr>\n",
       "      <td>max</td>\n",
       "      <td>2018.00</td>\n",
       "      <td>8.40</td>\n",
       "      <td>717.00</td>\n",
       "      <td>1000000.00</td>\n",
       "      <td>8.89e+07</td>\n",
       "    </tr>\n",
       "  </tbody>\n",
       "</table>\n",
       "</div>"
      ],
      "text/plain": [
       "            year     engine      power     mileage     price\n",
       "count  114105.00  114105.00  114105.00   114105.00  1.14e+05\n",
       "mean     2009.22       2.18     160.17   143259.07  7.52e+05\n",
       "std         5.68       0.88      79.57    87023.87  9.38e+05\n",
       "min      1990.00       0.67      29.00        1.00  1.50e+04\n",
       "25%      2006.00       1.60     106.00    84000.00  2.80e+05\n",
       "50%      2010.00       2.00     141.00   130000.00  5.15e+05\n",
       "75%      2013.00       2.50     184.00   188000.00  8.90e+05\n",
       "max      2018.00       8.40     717.00  1000000.00  8.89e+07"
      ]
     },
     "execution_count": 10,
     "metadata": {},
     "output_type": "execute_result"
    }
   ],
   "source": [
    "def cutter(x):\n",
    "    if x < 10:\n",
    "        return x\n",
    "    else:\n",
    "        return x / 100\n",
    "    \n",
    "    \n",
    "df['engine'] = df['engine'].apply(cutter)\n",
    "df.describe()"
   ]
  },
  {
   "cell_type": "code",
   "execution_count": 11,
   "metadata": {},
   "outputs": [
    {
     "data": {
      "text/html": [
       "<div>\n",
       "<style scoped>\n",
       "    .dataframe tbody tr th:only-of-type {\n",
       "        vertical-align: middle;\n",
       "    }\n",
       "\n",
       "    .dataframe tbody tr th {\n",
       "        vertical-align: top;\n",
       "    }\n",
       "\n",
       "    .dataframe thead th {\n",
       "        text-align: right;\n",
       "    }\n",
       "</style>\n",
       "<table border=\"1\" class=\"dataframe\">\n",
       "  <thead>\n",
       "    <tr style=\"text-align: right;\">\n",
       "      <th></th>\n",
       "      <th>car_description</th>\n",
       "      <th>year</th>\n",
       "      <th>engine</th>\n",
       "      <th>power</th>\n",
       "      <th>gas</th>\n",
       "      <th>transmission</th>\n",
       "      <th>body</th>\n",
       "      <th>drive</th>\n",
       "      <th>color</th>\n",
       "      <th>mileage</th>\n",
       "      <th>price</th>\n",
       "    </tr>\n",
       "  </thead>\n",
       "  <tbody>\n",
       "    <tr>\n",
       "      <td>0</td>\n",
       "      <td>LADA  2106</td>\n",
       "      <td>1990</td>\n",
       "      <td>1.3</td>\n",
       "      <td>64</td>\n",
       "      <td>Бензин</td>\n",
       "      <td>механика</td>\n",
       "      <td>седан</td>\n",
       "      <td>задний</td>\n",
       "      <td>бежевый</td>\n",
       "      <td>100000</td>\n",
       "      <td>21000</td>\n",
       "    </tr>\n",
       "    <tr>\n",
       "      <td>1</td>\n",
       "      <td>LADA  2104  5-speed</td>\n",
       "      <td>1990</td>\n",
       "      <td>1.5</td>\n",
       "      <td>72</td>\n",
       "      <td>Бензин</td>\n",
       "      <td>механика</td>\n",
       "      <td>универсал 5 дв.</td>\n",
       "      <td>задний</td>\n",
       "      <td>красный</td>\n",
       "      <td>91000</td>\n",
       "      <td>99000</td>\n",
       "    </tr>\n",
       "    <tr>\n",
       "      <td>2</td>\n",
       "      <td>LADA  2106</td>\n",
       "      <td>1990</td>\n",
       "      <td>1.3</td>\n",
       "      <td>64</td>\n",
       "      <td>Бензин</td>\n",
       "      <td>механика</td>\n",
       "      <td>седан</td>\n",
       "      <td>задний</td>\n",
       "      <td>бежевый</td>\n",
       "      <td>32000</td>\n",
       "      <td>80000</td>\n",
       "    </tr>\n",
       "    <tr>\n",
       "      <td>3</td>\n",
       "      <td>LADA  2107</td>\n",
       "      <td>1990</td>\n",
       "      <td>1.3</td>\n",
       "      <td>64</td>\n",
       "      <td>Бензин</td>\n",
       "      <td>механика</td>\n",
       "      <td>седан</td>\n",
       "      <td>задний</td>\n",
       "      <td>красный</td>\n",
       "      <td>250000</td>\n",
       "      <td>45000</td>\n",
       "    </tr>\n",
       "    <tr>\n",
       "      <td>4</td>\n",
       "      <td>LADA  2106</td>\n",
       "      <td>1990</td>\n",
       "      <td>1.3</td>\n",
       "      <td>64</td>\n",
       "      <td>Бензин</td>\n",
       "      <td>механика</td>\n",
       "      <td>седан</td>\n",
       "      <td>задний</td>\n",
       "      <td>голубой</td>\n",
       "      <td>68000</td>\n",
       "      <td>28000</td>\n",
       "    </tr>\n",
       "  </tbody>\n",
       "</table>\n",
       "</div>"
      ],
      "text/plain": [
       "       car_description  year  engine  power     gas transmission  \\\n",
       "0           LADA  2106  1990     1.3     64  Бензин     механика   \n",
       "1  LADA  2104  5-speed  1990     1.5     72  Бензин     механика   \n",
       "2           LADA  2106  1990     1.3     64  Бензин     механика   \n",
       "3           LADA  2107  1990     1.3     64  Бензин     механика   \n",
       "4           LADA  2106  1990     1.3     64  Бензин     механика   \n",
       "\n",
       "              body   drive    color  mileage  price  \n",
       "0            седан  задний  бежевый   100000  21000  \n",
       "1  универсал 5 дв.  задний  красный    91000  99000  \n",
       "2            седан  задний  бежевый    32000  80000  \n",
       "3            седан  задний  красный   250000  45000  \n",
       "4            седан  задний  голубой    68000  28000  "
      ]
     },
     "execution_count": 11,
     "metadata": {},
     "output_type": "execute_result"
    }
   ],
   "source": [
    "df.head()"
   ]
  },
  {
   "cell_type": "code",
   "execution_count": 12,
   "metadata": {
    "scrolled": false
   },
   "outputs": [
    {
     "data": {
      "text/plain": [
       "False    113154\n",
       "True        951\n",
       "dtype: int64"
      ]
     },
     "execution_count": 12,
     "metadata": {},
     "output_type": "execute_result"
    }
   ],
   "source": [
    "df.duplicated().value_counts()"
   ]
  },
  {
   "cell_type": "markdown",
   "metadata": {},
   "source": [
    "Удаляем одинаковые записи"
   ]
  },
  {
   "cell_type": "code",
   "execution_count": 13,
   "metadata": {
    "scrolled": false
   },
   "outputs": [
    {
     "data": {
      "text/plain": [
       "False    113154\n",
       "dtype: int64"
      ]
     },
     "execution_count": 13,
     "metadata": {},
     "output_type": "execute_result"
    }
   ],
   "source": [
    "df.drop_duplicates(inplace = True)\n",
    "df.duplicated().value_counts()"
   ]
  },
  {
   "cell_type": "code",
   "execution_count": 14,
   "metadata": {},
   "outputs": [
    {
     "data": {
      "text/plain": [
       "(113154, 11)"
      ]
     },
     "execution_count": 14,
     "metadata": {},
     "output_type": "execute_result"
    }
   ],
   "source": [
    "df.shape"
   ]
  },
  {
   "cell_type": "markdown",
   "metadata": {},
   "source": [
    "Удаляем вторую часть названия производителя \"Land Rover\", чтобы правильно извлечь названия модели"
   ]
  },
  {
   "cell_type": "code",
   "execution_count": 15,
   "metadata": {},
   "outputs": [],
   "source": [
    "df['car_description'] = df['car_description'].astype('str').str.replace('Rover','')"
   ]
  },
  {
   "cell_type": "markdown",
   "metadata": {},
   "source": [
    "Вытаскиваем полезную информацию из столбца \"car_description\" и удаляем его"
   ]
  },
  {
   "cell_type": "code",
   "execution_count": 16,
   "metadata": {},
   "outputs": [],
   "source": [
    "manufacturer = df['car_description'].apply(lambda x : x.split()[0])\n",
    "model = df['car_description'].apply(lambda x : x.split()[1])\n",
    "restyling = df['car_description'].str.contains('Рестайлинг').astype('int32')\n",
    "df.insert(0, 'manufacturer', manufacturer)\n",
    "df.insert(1, 'model', model)\n",
    "df.insert(2, 'restyling', restyling)\n",
    "df.drop('car_description', axis = 1, inplace = True);"
   ]
  },
  {
   "cell_type": "code",
   "execution_count": 17,
   "metadata": {},
   "outputs": [],
   "source": [
    "df['manufacturer'] = df['manufacturer'].str.replace('Land','Land Rover')"
   ]
  },
  {
   "cell_type": "code",
   "execution_count": 18,
   "metadata": {},
   "outputs": [
    {
     "data": {
      "text/html": [
       "<div>\n",
       "<style scoped>\n",
       "    .dataframe tbody tr th:only-of-type {\n",
       "        vertical-align: middle;\n",
       "    }\n",
       "\n",
       "    .dataframe tbody tr th {\n",
       "        vertical-align: top;\n",
       "    }\n",
       "\n",
       "    .dataframe thead th {\n",
       "        text-align: right;\n",
       "    }\n",
       "</style>\n",
       "<table border=\"1\" class=\"dataframe\">\n",
       "  <thead>\n",
       "    <tr style=\"text-align: right;\">\n",
       "      <th></th>\n",
       "      <th>manufacturer</th>\n",
       "      <th>model</th>\n",
       "      <th>restyling</th>\n",
       "      <th>year</th>\n",
       "      <th>engine</th>\n",
       "      <th>power</th>\n",
       "      <th>gas</th>\n",
       "      <th>transmission</th>\n",
       "      <th>body</th>\n",
       "      <th>drive</th>\n",
       "      <th>color</th>\n",
       "      <th>mileage</th>\n",
       "      <th>price</th>\n",
       "    </tr>\n",
       "  </thead>\n",
       "  <tbody>\n",
       "    <tr>\n",
       "      <td>0</td>\n",
       "      <td>LADA</td>\n",
       "      <td>2106</td>\n",
       "      <td>0</td>\n",
       "      <td>1990</td>\n",
       "      <td>1.3</td>\n",
       "      <td>64</td>\n",
       "      <td>Бензин</td>\n",
       "      <td>механика</td>\n",
       "      <td>седан</td>\n",
       "      <td>задний</td>\n",
       "      <td>бежевый</td>\n",
       "      <td>100000</td>\n",
       "      <td>21000</td>\n",
       "    </tr>\n",
       "    <tr>\n",
       "      <td>1</td>\n",
       "      <td>LADA</td>\n",
       "      <td>2104</td>\n",
       "      <td>0</td>\n",
       "      <td>1990</td>\n",
       "      <td>1.5</td>\n",
       "      <td>72</td>\n",
       "      <td>Бензин</td>\n",
       "      <td>механика</td>\n",
       "      <td>универсал 5 дв.</td>\n",
       "      <td>задний</td>\n",
       "      <td>красный</td>\n",
       "      <td>91000</td>\n",
       "      <td>99000</td>\n",
       "    </tr>\n",
       "    <tr>\n",
       "      <td>2</td>\n",
       "      <td>LADA</td>\n",
       "      <td>2106</td>\n",
       "      <td>0</td>\n",
       "      <td>1990</td>\n",
       "      <td>1.3</td>\n",
       "      <td>64</td>\n",
       "      <td>Бензин</td>\n",
       "      <td>механика</td>\n",
       "      <td>седан</td>\n",
       "      <td>задний</td>\n",
       "      <td>бежевый</td>\n",
       "      <td>32000</td>\n",
       "      <td>80000</td>\n",
       "    </tr>\n",
       "    <tr>\n",
       "      <td>3</td>\n",
       "      <td>LADA</td>\n",
       "      <td>2107</td>\n",
       "      <td>0</td>\n",
       "      <td>1990</td>\n",
       "      <td>1.3</td>\n",
       "      <td>64</td>\n",
       "      <td>Бензин</td>\n",
       "      <td>механика</td>\n",
       "      <td>седан</td>\n",
       "      <td>задний</td>\n",
       "      <td>красный</td>\n",
       "      <td>250000</td>\n",
       "      <td>45000</td>\n",
       "    </tr>\n",
       "    <tr>\n",
       "      <td>4</td>\n",
       "      <td>LADA</td>\n",
       "      <td>2106</td>\n",
       "      <td>0</td>\n",
       "      <td>1990</td>\n",
       "      <td>1.3</td>\n",
       "      <td>64</td>\n",
       "      <td>Бензин</td>\n",
       "      <td>механика</td>\n",
       "      <td>седан</td>\n",
       "      <td>задний</td>\n",
       "      <td>голубой</td>\n",
       "      <td>68000</td>\n",
       "      <td>28000</td>\n",
       "    </tr>\n",
       "  </tbody>\n",
       "</table>\n",
       "</div>"
      ],
      "text/plain": [
       "  manufacturer model  restyling  year  engine  power     gas transmission  \\\n",
       "0         LADA  2106          0  1990     1.3     64  Бензин     механика   \n",
       "1         LADA  2104          0  1990     1.5     72  Бензин     механика   \n",
       "2         LADA  2106          0  1990     1.3     64  Бензин     механика   \n",
       "3         LADA  2107          0  1990     1.3     64  Бензин     механика   \n",
       "4         LADA  2106          0  1990     1.3     64  Бензин     механика   \n",
       "\n",
       "              body   drive    color  mileage  price  \n",
       "0            седан  задний  бежевый   100000  21000  \n",
       "1  универсал 5 дв.  задний  красный    91000  99000  \n",
       "2            седан  задний  бежевый    32000  80000  \n",
       "3            седан  задний  красный   250000  45000  \n",
       "4            седан  задний  голубой    68000  28000  "
      ]
     },
     "execution_count": 18,
     "metadata": {},
     "output_type": "execute_result"
    }
   ],
   "source": [
    "df.head()"
   ]
  },
  {
   "cell_type": "markdown",
   "metadata": {},
   "source": [
    "Сохрание очищенные и подготовленные данные в файл preprocessed_auto_ru_df.csv"
   ]
  },
  {
   "cell_type": "code",
   "execution_count": null,
   "metadata": {},
   "outputs": [],
   "source": [
    "df.to_csv('../data/preprocessed_auto_ru_df.csv', index=False)"
   ]
  }
 ],
 "metadata": {
  "file_extension": ".py",
  "kernelspec": {
   "display_name": "Python 3",
   "language": "python",
   "name": "python3"
  },
  "language_info": {
   "codemirror_mode": {
    "name": "ipython",
    "version": 3
   },
   "file_extension": ".py",
   "mimetype": "text/x-python",
   "name": "python",
   "nbconvert_exporter": "python",
   "pygments_lexer": "ipython3",
   "version": "3.6.8"
  },
  "mimetype": "text/x-python",
  "name": "python",
  "npconvert_exporter": "python",
  "pygments_lexer": "ipython3",
  "version": 3
 },
 "nbformat": 4,
 "nbformat_minor": 2
}
